{
 "cells": [
  {
   "cell_type": "code",
   "execution_count": 1,
   "metadata": {
    "collapsed": true
   },
   "outputs": [],
   "source": [
    "import numpy as np\n",
    "import matplotlib.pyplot as plt\n",
    "import networkx as nx"
   ]
  },
  {
   "cell_type": "code",
   "execution_count": 2,
   "metadata": {},
   "outputs": [
    {
     "data": {
      "text/plain": [
       "<networkx.classes.graph.Graph at 0x2380cb651d0>"
      ]
     },
     "execution_count": 2,
     "metadata": {},
     "output_type": "execute_result"
    }
   ],
   "source": [
    "fh=open(\"wiki-Vote.txt\",'rb')\n",
    "G=nx.read_adjlist(fh, nodetype=int)\n",
    "fh.close()\n",
    "G"
   ]
  },
  {
   "cell_type": "code",
   "execution_count": 3,
   "metadata": {
    "collapsed": true
   },
   "outputs": [],
   "source": [
    "def answerpropagation(G, query, lsp):\n",
    "    l_query=dict(nx.single_source_shortest_path_length(G,query))\n",
    "    l_lsp=dict(nx.single_source_shortest_path_length(G,lsp))\n",
    "    a_query=np.array(list(l_query.items()))\n",
    "    a_lsp=np.array(list(l_lsp.items()))\n",
    "    a_query.sort()\n",
    "    a_lsp.sort()\n",
    "    temp=0\n",
    "    check=0\n",
    "    aquery=np.zeros((a_query.max(0)[0],2))\n",
    "    alsp=np.zeros((a_lsp.max(0)[0],2))\n",
    "    for (first, last) in a_query:\n",
    "        temp = temp+1\n",
    "        if check < first:\n",
    "            check=check+1\n",
    "            print(f'Query : Step{first:3d} is Propagated {temp/len(a_query)*100:3.2f}%')\n",
    "            aquery[first-1]=(first,temp/len(a_query))\n",
    "    temp=0\n",
    "    check=0\n",
    "    for (first, last) in a_lsp:\n",
    "        temp = temp+1\n",
    "        if check < first:\n",
    "            check=check+1\n",
    "            print(f'LSP : Step{first:3d} is Propagated {temp/len(a_lsp)*100:3.2f}%')\n",
    "            alsp[first-1]=(first,temp/len(a_lsp))\n",
    "    plt.title(\"Query and Answer Ratio\")\n",
    "    plt.plot(np.transpose(aquery)[0],np.transpose(aquery)[1],marker='v',color=\"r\",label='Query')\n",
    "    plt.plot(np.transpose(alsp)[0],np.transpose(alsp)[1],marker='o',color=\"b\",label='Lsp')\n",
    "    plt.xlabel('Step')\n",
    "    plt.ylabel('Propagated ratio')\n",
    "    plt.legend(loc=2)\n",
    "    plt.show()"
   ]
  },
  {
   "cell_type": "code",
   "execution_count": 4,
   "metadata": {},
   "outputs": [
    {
     "name": "stdout",
     "output_type": "stream",
     "text": [
      "Query : Step  1 is Propagated 0.03%\n",
      "Query : Step  2 is Propagated 0.42%\n",
      "Query : Step  3 is Propagated 26.07%\n",
      "Query : Step  4 is Propagated 90.18%\n",
      "Query : Step  5 is Propagated 99.93%\n",
      "LSP : Step  1 is Propagated 0.03%\n",
      "LSP : Step  2 is Propagated 0.44%\n",
      "LSP : Step  3 is Propagated 18.07%\n",
      "LSP : Step  4 is Propagated 84.64%\n",
      "LSP : Step  5 is Propagated 99.87%\n"
     ]
    },
    {
     "data": {
      "image/png": "[encoded data removed]",
      "text/plain": [
       "<matplotlib.figure.Figure at 0x2387ffe3320>"
      ]
     },
     "metadata": {},
     "output_type": "display_data"
    }
   ],
   "source": [
    "answerpropagation(G,30,1412)"
   ]
  },
  {
   "cell_type": "code",
   "execution_count": 29,
   "metadata": {},
   "outputs": [],
   "source": [
    "G=nx.fast_gnp_random_graph(100,0.04,directed=True)"
   ]
  },
  {
   "cell_type": "code",
   "execution_count": 59,
   "metadata": {
    "scrolled": true
   },
   "outputs": [],
   "source": [
    "nx.betweenness_centrality(G)"
   ]
  },
  {
   "cell_type": "code",
   "execution_count": 90,
   "metadata": {},
   "outputs": [],
   "source": [
    "def largest_node(centrality):\n",
    "    return list(reversed(sorted((value, node)\n",
    "                                for (node, value) in centrality.items())))[0][1]"
   ]
  },
  {
   "cell_type": "code",
   "execution_count": 84,
   "metadata": {
    "collapsed": true
   },
   "outputs": [],
   "source": [
    "DEGREE_CENTRALITY = nx.degree_centrality(G)\n",
    "CLOSENESS_CENTRALITY = nx.closeness_centrality(G)\n",
    "BETWEENNESS_CENTRALITY = nx.betweenness_centrality(G)"
   ]
  },
  {
   "cell_type": "code",
   "execution_count": 85,
   "metadata": {},
   "outputs": [
    {
     "data": {
      "text/plain": [
       "35"
      ]
     },
     "execution_count": 85,
     "metadata": {},
     "output_type": "execute_result"
    }
   ],
   "source": [
    "largest_node(DEGREE_CENTRALITY)"
   ]
  },
  {
   "cell_type": "code",
   "execution_count": 87,
   "metadata": {},
   "outputs": [
    {
     "data": {
      "text/plain": [
       "87"
      ]
     },
     "execution_count": 87,
     "metadata": {},
     "output_type": "execute_result"
    }
   ],
   "source": [
    "largest_node(nx.pagerank(G))"
   ]
  },
  {
   "cell_type": "code",
   "execution_count": 89,
   "metadata": {},
   "outputs": [
    {
     "data": {
      "text/plain": [
       "({0: 0.007591323019860162,\n",
       "  1: 0.013575513793435509,\n",
       "  2: 0.013825781122377874,\n",
       "  3: 0.0,\n",
       "  4: 0.005062506659169725,\n",
       "  5: 0.008032637664667315,\n",
       "  6: 0.013136729633904283,\n",
       "  7: 0.005733503024562647,\n",
       "  8: 0.007864711554950943,\n",
       "  9: 0.007918781974483303,\n",
       "  10: 0.015151002240122292,\n",
       "  11: 0.010942384107891489,\n",
       "  12: 0.007644072873203947,\n",
       "  13: 0.007004854687352153,\n",
       "  14: 0.0069093643978541605,\n",
       "  15: 0.018848061719305753,\n",
       "  16: 0.0022112783980573992,\n",
       "  17: 0.001390809454802135,\n",
       "  18: 0.0056390715068797255,\n",
       "  19: 0.008353693532326395,\n",
       "  20: 0.01950320917601723,\n",
       "  21: 0.012506935344849061,\n",
       "  22: 0.017142206258445987,\n",
       "  23: 0.0,\n",
       "  24: 0.005446113057857587,\n",
       "  25: 0.0015660905550564461,\n",
       "  26: 0.013928025891123389,\n",
       "  27: 0.001294340496761682,\n",
       "  28: 0.0113974323699439,\n",
       "  29: 0.009705302644558579,\n",
       "  30: 0.0031721054254270986,\n",
       "  31: 0.014433589129396827,\n",
       "  32: 0.017108906723870485,\n",
       "  33: 0.00839808409971777,\n",
       "  34: 0.005813834530526748,\n",
       "  35: 0.030109066635204833,\n",
       "  36: 0.013186266173689423,\n",
       "  37: 0.020159941384470886,\n",
       "  38: 0.0043709121374080374,\n",
       "  39: 0.0,\n",
       "  40: 0.02243000383394986,\n",
       "  41: 0.0009908764720723128,\n",
       "  42: 0.0077381729693698775,\n",
       "  43: 0.007059544522896346,\n",
       "  44: 0.009049801693809457,\n",
       "  45: 0.009173738332894275,\n",
       "  46: 0.004075612484268933,\n",
       "  47: 0.010192493736310803,\n",
       "  48: 0.0071470340128580055,\n",
       "  49: 0.024519443009987107,\n",
       "  50: 0.02578885524376057,\n",
       "  51: 0.021336434083897425,\n",
       "  52: 0.0008447399392861177,\n",
       "  53: 0.02634731262149606,\n",
       "  54: 0.007733283602195523,\n",
       "  55: 0.016830048246306625,\n",
       "  56: 0.0,\n",
       "  57: 0.012679475341042594,\n",
       "  58: 0.014229632014425828,\n",
       "  59: 0.025288757245946977,\n",
       "  60: 0.002616558049370488,\n",
       "  61: 0.00952684579500388,\n",
       "  62: 0.004418729472405549,\n",
       "  63: 0.012264014770856443,\n",
       "  64: 0.005274971884829118,\n",
       "  65: 0.0038532692555674477,\n",
       "  66: 0.005024276609394967,\n",
       "  67: 0.01411049065717637,\n",
       "  68: 0.0015153237187548066,\n",
       "  69: 0.012387981800353953,\n",
       "  70: 0.0,\n",
       "  71: 0.023661804268040744,\n",
       "  72: 0.017482145492621944,\n",
       "  73: 0.023520498206425683,\n",
       "  74: 0.0,\n",
       "  75: 0.02491572321478435,\n",
       "  76: 0.0052531582579294295,\n",
       "  77: 0.006162736912735141,\n",
       "  78: 0.00797414833683189,\n",
       "  79: 0.014955884755031922,\n",
       "  80: 0.005215761147719237,\n",
       "  81: 0.005399671449660426,\n",
       "  82: 0.02235566316940361,\n",
       "  83: 0.0016012573540175972,\n",
       "  84: 0.0029922090497045695,\n",
       "  85: 0.006228524801096087,\n",
       "  86: 0.008883250029992872,\n",
       "  87: 0.011747281846193777,\n",
       "  88: 0.006770972924611506,\n",
       "  89: 0.002098827339762693,\n",
       "  90: 0.012092512576379073,\n",
       "  91: 0.004564413165925049,\n",
       "  92: 0.012891719560259293,\n",
       "  93: 0.007742226016217686,\n",
       "  94: 0.008972002833905408,\n",
       "  95: 0.023099575949832984,\n",
       "  96: 0.0028725926298077613,\n",
       "  97: 0.005895224413192305,\n",
       "  98: 0.018636037040612972,\n",
       "  99: 0.005488012437283065},\n",
       " {0: 0.008441392200243841,\n",
       "  1: 0.02592525837037704,\n",
       "  2: 0.0066746487451791086,\n",
       "  3: 0.02000948445090747,\n",
       "  4: 0.008166817703333959,\n",
       "  5: 0.008631499779334965,\n",
       "  6: 0.0033651916628915732,\n",
       "  7: 0.0009507208623526703,\n",
       "  8: 0.005315799033411713,\n",
       "  9: 0.003381019671356648,\n",
       "  10: 0.009904938412093924,\n",
       "  11: 0.0035395993923795976,\n",
       "  12: 0.0022211472319303787,\n",
       "  13: 0.0121029160074139,\n",
       "  14: 0.007777180498806819,\n",
       "  15: 0.008559042827773287,\n",
       "  16: 0.004587258688752167,\n",
       "  17: 0.029496490297675145,\n",
       "  18: 0.008023908160734864,\n",
       "  19: 0.005688631245808146,\n",
       "  20: 0.0035547759495606437,\n",
       "  21: 0.013305325488748873,\n",
       "  22: 0.007072334012778309,\n",
       "  23: 0.0042628725736490805,\n",
       "  24: 0.010876713413601203,\n",
       "  25: 0.0016995207814153655,\n",
       "  26: 0.006700222983723805,\n",
       "  27: 0.0042955438532127545,\n",
       "  28: 0.003928893666331958,\n",
       "  29: 0.006165881636225719,\n",
       "  30: 0.009548232502355048,\n",
       "  31: 0.000561926286407903,\n",
       "  32: 0.013029226485344225,\n",
       "  33: 0.02040999118685572,\n",
       "  34: 0.007963646969305578,\n",
       "  35: 0.01874545739496017,\n",
       "  36: 0.0130481250342237,\n",
       "  37: 0.005629805641786159,\n",
       "  38: 0.0051762317668569875,\n",
       "  39: 0.006727877908427613,\n",
       "  40: 0.01737291514839734,\n",
       "  41: 0.010537282060009893,\n",
       "  42: 0.009964429395890689,\n",
       "  43: 0.015053548741065273,\n",
       "  44: 0.012684126191165317,\n",
       "  45: 0.026522400203836873,\n",
       "  46: 0.01593302587065352,\n",
       "  47: 0.012916606022602155,\n",
       "  48: 0.02246945520326912,\n",
       "  49: 0.009240732663620143,\n",
       "  50: 0.008142471859771157,\n",
       "  51: 0.008994997726279161,\n",
       "  52: 0.006985825423427847,\n",
       "  53: 0.01150135931544341,\n",
       "  54: 0.008677887368696315,\n",
       "  55: 0.003659081167647961,\n",
       "  56: 0.002057823176211195,\n",
       "  57: 0.008712135677481445,\n",
       "  58: 0.011357256379277335,\n",
       "  59: 0.004483475623186693,\n",
       "  60: 0.02194503214267346,\n",
       "  61: 0.014799804220980657,\n",
       "  62: 0.01067585938948241,\n",
       "  63: 0.008003134591208893,\n",
       "  64: 0.004848918908780156,\n",
       "  65: 0.020657608058006847,\n",
       "  66: 0.010142098264131342,\n",
       "  67: 0.011609652764511414,\n",
       "  68: 0.014653602887988823,\n",
       "  69: 0.011244458665639542,\n",
       "  70: 0.01521883512280573,\n",
       "  71: 0.007117863591895775,\n",
       "  72: 0.0014975168811298563,\n",
       "  73: 0.017463576763887552,\n",
       "  74: 0.007195540111168706,\n",
       "  75: 0.004381404348552803,\n",
       "  76: 0.008462549415574085,\n",
       "  77: 0.011082656236714637,\n",
       "  78: 0.005770713041680442,\n",
       "  79: 0.009162292158827658,\n",
       "  80: 0.0014522833353103424,\n",
       "  81: 0.04043186304341881,\n",
       "  82: 0.01006111077197779,\n",
       "  83: 0.006581784649045489,\n",
       "  84: 0.011817515449281817,\n",
       "  85: 0.00770549512696833,\n",
       "  86: 0.012104352472170617,\n",
       "  87: 0.02455448925854696,\n",
       "  88: 0.011352328745597173,\n",
       "  89: 0.010318093291027342,\n",
       "  90: 0.010376866054956895,\n",
       "  91: 0.0013257575168827804,\n",
       "  92: 0.001315486959196401,\n",
       "  93: 0.0070148245697212366,\n",
       "  94: 0.0,\n",
       "  95: 0.010323356405030707,\n",
       "  96: 0.005038655260576847,\n",
       "  97: 0.01759466802903853,\n",
       "  98: 0.01631118917294101,\n",
       "  99: 0.005654376326209654})"
      ]
     },
     "execution_count": 89,
     "metadata": {},
     "output_type": "execute_result"
    }
   ],
   "source": [
    "nx.hits(G)"
   ]
  },
  {
   "cell_type": "code",
   "execution_count": null,
   "metadata": {
    "collapsed": true
   },
   "outputs": [],
   "source": []
  }
 ],
 "metadata": {
  "kernelspec": {
   "display_name": "Python 3",
   "language": "python",
   "name": "python3"
  },
  "language_info": {
   "codemirror_mode": {
    "name": "ipython",
    "version": 3
   },
   "file_extension": ".py",
   "mimetype": "text/x-python",
   "name": "python",
   "nbconvert_exporter": "python",
   "pygments_lexer": "ipython3",
   "version": "3.6.3"
  }
 },
 "nbformat": 4,
 "nbformat_minor": 2
}
