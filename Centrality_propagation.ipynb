{
 "cells": [
  {
   "cell_type": "code",
   "execution_count": 1,
   "metadata": {
    "collapsed": true
   },
   "outputs": [],
   "source": [
    "import numpy as np\n",
    "import matplotlib.pyplot as plt\n",
    "import networkx as nx"
   ]
  },
  {
   "cell_type": "code",
   "execution_count": null,
   "metadata": {
    "collapsed": true
   },
   "outputs": [],
   "source": [
    "fh=open(\"wiki-Vote.txt\",'rb')\n",
    "G=nx.read_adjlist(fh, nodetype=int)\n",
    "fh.close()\n",
    "G"
   ]
  },
  {
   "cell_type": "code",
   "execution_count": 41,
   "metadata": {
    "collapsed": true
   },
   "outputs": [],
   "source": [
    "G=nx.fast_gnp_random_graph(100,0.07,directed=True)"
   ]
  },
  {
   "cell_type": "code",
   "execution_count": 29,
   "metadata": {
    "collapsed": true
   },
   "outputs": [],
   "source": [
    "def largest_node(centrality):\n",
    "    return list(reversed(sorted((value, node)\n",
    "                                for (node, value) in centrality.items())))[0][1]"
   ]
  },
  {
   "cell_type": "code",
   "execution_count": 4,
   "metadata": {
    "collapsed": true
   },
   "outputs": [],
   "source": [
    "def shortest_vector(Graph,node):\n",
    "    I_dict=nx.single_source_shortest_path_length(Graph,node)\n",
    "    A_list=np.array(list(I_dict.items()))\n",
    "    A_list.sort()\n",
    "    return (A_list)"
   ]
  },
  {
   "cell_type": "code",
   "execution_count": 38,
   "metadata": {},
   "outputs": [],
   "source": [
    "def calculate_propagation(ADJ):\n",
    "    temp = 0\n",
    "    check = 0\n",
    "    ADJ_return = np.zeros((ADJ.max(0)[0],2))\n",
    "    for (first, last) in ADJ:\n",
    "        temp = temp+1\n",
    "        if check < first:\n",
    "            check=check+1\n",
    "            print(f'Step{first:3d} is Propagated {temp/len(ADJ)*100:3.2f}%')\n",
    "            ADJ_return[first-1]=(first,temp/len(ADJ))\n",
    "    return (ADJ_return)"
   ]
  },
  {
   "cell_type": "code",
   "execution_count": 44,
   "metadata": {},
   "outputs": [],
   "source": [
    "def centralitypropagation(G):\n",
    "    DEGREE_CENTRALITY = nx.degree_centrality(G)\n",
    "    CLOSENESS_CENTRALITY = nx.closeness_centrality(G)\n",
    "    BETWEENNESS_CENTRALITY = nx.betweenness_centrality(G)\n",
    "    PAGERANK_CENTRALITY = nx.pagerank(G)\n",
    "    \n",
    "    DEGREE_CENTRALITY_NODE = largest_node(DEGREE_CENTRALITY)\n",
    "    CLOSENESS_CENTRALITY_NODE = largest_node(CLOSENESS_CENTRALITY)\n",
    "    BETWEENNESS_CENTRALITY_NODE = largest_node(BETWEENNESS_CENTRALITY)\n",
    "    PAGERANK_CENTRALITY_NODE = largest_node(PAGERANK_CENTRALITY)\n",
    "    \n",
    "    print(f'Degree centralrity node is {DEGREE_CENTRALITY_NODE:3d}')\n",
    "    print(f'Closeness centralrity node is {CLOSENESS_CENTRALITY_NODE:3d}')\n",
    "    print(f'Betweenness centralrity node is {BETWEENNESS_CENTRALITY_NODE:3d}')\n",
    "    print(f'Pagerank centralrity node is {PAGERANK_CENTRALITY_NODE:3d}')\n",
    "    \n",
    "    Adj_DEGREE = shortest_vector(G,DEGREE_CENTRALITY_NODE)\n",
    "    Adj_CLOSENESS = shortest_vector(G,CLOSENESS_CENTRALITY_NODE)\n",
    "    Adj_BETWEENNESS = shortest_vector(G,BETWEENNESS_CENTRALITY_NODE)\n",
    "    Adj_PAGERANK = shortest_vector(G,PAGERANK_CENTRALITY_NODE)\n",
    "    \n",
    "    Result_DEGREE = calculate_propagation(Adj_DEGREE)\n",
    "    Result_CLOSENESS = calculate_propagation(Adj_CLOSENESS)\n",
    "    Result_BETWEENNESS = calculate_propagation(Adj_BETWEENNESS)\n",
    "    Result_PAGERANK = calculate_propagation(Adj_PAGERANK)\n",
    "   \n",
    "\n",
    "    plt.title(\"Ratio\")\n",
    "    plt.plot(np.transpose(Result_DEGREE)[0],np.transpose(Result_DEGREE)[1],marker='o',color='r',label='DEGREE')\n",
    "    plt.plot(np.transpose(Result_CLOSENESS)[0],np.transpose(Result_CLOSENESS)[1],marker='v',color='b',label='CLOSENESS')\n",
    "    plt.plot(np.transpose(Result_BETWEENNESS)[0],np.transpose(Result_BETWEENNESS)[1],marker='^',color='green',label='BETWEENNESS')\n",
    "    plt.plot(np.transpose(Result_PAGERANK)[0],np.transpose(Result_PAGERANK)[1],marker='<',color='gray',label='PAGERANK')\n",
    "    plt.xlabel('Step')\n",
    "    plt.ylabel('Propagated ratio')\n",
    "    plt.legend(loc=2)\n",
    "    plt.show()"
   ]
  },
  {
   "cell_type": "code",
   "execution_count": 45,
   "metadata": {},
   "outputs": [
    {
     "name": "stdout",
     "output_type": "stream",
     "text": [
      "Degree centralrity node is  25\n",
      "Closeness centralrity node is  61\n",
      "Betweenness centralrity node is   7\n",
      "Pagerank centralrity node is  61\n",
      "Step  1 is Propagated 2.00%\n",
      "Step  2 is Propagated 14.00%\n",
      "Step  3 is Propagated 66.00%\n",
      "Step  1 is Propagated 2.00%\n",
      "Step  2 is Propagated 4.00%\n",
      "Step  3 is Propagated 14.00%\n",
      "Step  4 is Propagated 60.00%\n",
      "Step  5 is Propagated 100.00%\n",
      "Step  1 is Propagated 3.00%\n",
      "Step  2 is Propagated 13.00%\n",
      "Step  3 is Propagated 63.00%\n",
      "Step  1 is Propagated 2.00%\n",
      "Step  2 is Propagated 4.00%\n",
      "Step  3 is Propagated 14.00%\n",
      "Step  4 is Propagated 60.00%\n",
      "Step  5 is Propagated 100.00%\n"
     ]
    },
    {
     "data": {
      "image/png": "[encoded data removed]",
      "text/plain": [
       "<matplotlib.figure.Figure at 0x2528ca52748>"
      ]
     },
     "metadata": {},
     "output_type": "display_data"
    }
   ],
   "source": [
    "centralitypropagation(G)"
   ]
  },
  {
   "cell_type": "code",
   "execution_count": 30,
   "metadata": {},
   "outputs": [
    {
     "data": {
      "text/plain": [
       "70"
      ]
     },
     "execution_count": 30,
     "metadata": {},
     "output_type": "execute_result"
    }
   ],
   "source": [
    "largest_node(nx.degree_centrality(G))"
   ]
  },
  {
   "cell_type": "code",
   "execution_count": null,
   "metadata": {
    "collapsed": true
   },
   "outputs": [],
   "source": []
  }
 ],
 "metadata": {
  "kernelspec": {
   "display_name": "Python 3",
   "language": "python",
   "name": "python3"
  },
  "language_info": {
   "codemirror_mode": {
    "name": "ipython",
    "version": 3
   },
   "file_extension": ".py",
   "mimetype": "text/x-python",
   "name": "python",
   "nbconvert_exporter": "python",
   "pygments_lexer": "ipython3",
   "version": "3.6.3"
  }
 },
 "nbformat": 4,
 "nbformat_minor": 2
}
